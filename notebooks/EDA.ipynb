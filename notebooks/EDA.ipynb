{
 "cells": [
  {
   "cell_type": "markdown",
   "id": "0484d6a2",
   "metadata": {},
   "source": [
    "# EDA"
   ]
  },
  {
   "cell_type": "markdown",
   "id": "96aba87b",
   "metadata": {},
   "source": [
    "## Load and Inspect data"
   ]
  },
  {
   "cell_type": "code",
   "execution_count": 1,
   "id": "7e18307e",
   "metadata": {},
   "outputs": [
    {
     "name": "stderr",
     "output_type": "stream",
     "text": [
      "2025-05-30 15:37:37,543 - INFO - Successfully loaded data from ../data/raw_analyst_ratings.csv with shape (1407328, 6)\n"
     ]
    },
    {
     "data": {
      "text/html": [
       "<div>\n",
       "<style scoped>\n",
       "    .dataframe tbody tr th:only-of-type {\n",
       "        vertical-align: middle;\n",
       "    }\n",
       "\n",
       "    .dataframe tbody tr th {\n",
       "        vertical-align: top;\n",
       "    }\n",
       "\n",
       "    .dataframe thead th {\n",
       "        text-align: right;\n",
       "    }\n",
       "</style>\n",
       "<table border=\"1\" class=\"dataframe\">\n",
       "  <thead>\n",
       "    <tr style=\"text-align: right;\">\n",
       "      <th></th>\n",
       "      <th>Unnamed: 0</th>\n",
       "      <th>headline</th>\n",
       "      <th>url</th>\n",
       "      <th>publisher</th>\n",
       "      <th>date</th>\n",
       "      <th>stock</th>\n",
       "    </tr>\n",
       "  </thead>\n",
       "  <tbody>\n",
       "    <tr>\n",
       "      <th>0</th>\n",
       "      <td>0</td>\n",
       "      <td>Stocks That Hit 52-Week Highs On Friday</td>\n",
       "      <td>https://www.benzinga.com/news/20/06/16190091/s...</td>\n",
       "      <td>Benzinga Insights</td>\n",
       "      <td>2020-06-05 10:30:54-04:00</td>\n",
       "      <td>A</td>\n",
       "    </tr>\n",
       "    <tr>\n",
       "      <th>1</th>\n",
       "      <td>1</td>\n",
       "      <td>Stocks That Hit 52-Week Highs On Wednesday</td>\n",
       "      <td>https://www.benzinga.com/news/20/06/16170189/s...</td>\n",
       "      <td>Benzinga Insights</td>\n",
       "      <td>2020-06-03 10:45:20-04:00</td>\n",
       "      <td>A</td>\n",
       "    </tr>\n",
       "    <tr>\n",
       "      <th>2</th>\n",
       "      <td>2</td>\n",
       "      <td>71 Biggest Movers From Friday</td>\n",
       "      <td>https://www.benzinga.com/news/20/05/16103463/7...</td>\n",
       "      <td>Lisa Levin</td>\n",
       "      <td>2020-05-26 04:30:07-04:00</td>\n",
       "      <td>A</td>\n",
       "    </tr>\n",
       "    <tr>\n",
       "      <th>3</th>\n",
       "      <td>3</td>\n",
       "      <td>46 Stocks Moving In Friday's Mid-Day Session</td>\n",
       "      <td>https://www.benzinga.com/news/20/05/16095921/4...</td>\n",
       "      <td>Lisa Levin</td>\n",
       "      <td>2020-05-22 12:45:06-04:00</td>\n",
       "      <td>A</td>\n",
       "    </tr>\n",
       "    <tr>\n",
       "      <th>4</th>\n",
       "      <td>4</td>\n",
       "      <td>B of A Securities Maintains Neutral on Agilent...</td>\n",
       "      <td>https://www.benzinga.com/news/20/05/16095304/b...</td>\n",
       "      <td>Vick Meyer</td>\n",
       "      <td>2020-05-22 11:38:59-04:00</td>\n",
       "      <td>A</td>\n",
       "    </tr>\n",
       "  </tbody>\n",
       "</table>\n",
       "</div>"
      ],
      "text/plain": [
       "   Unnamed: 0                                           headline  \\\n",
       "0           0            Stocks That Hit 52-Week Highs On Friday   \n",
       "1           1         Stocks That Hit 52-Week Highs On Wednesday   \n",
       "2           2                      71 Biggest Movers From Friday   \n",
       "3           3       46 Stocks Moving In Friday's Mid-Day Session   \n",
       "4           4  B of A Securities Maintains Neutral on Agilent...   \n",
       "\n",
       "                                                 url          publisher  \\\n",
       "0  https://www.benzinga.com/news/20/06/16190091/s...  Benzinga Insights   \n",
       "1  https://www.benzinga.com/news/20/06/16170189/s...  Benzinga Insights   \n",
       "2  https://www.benzinga.com/news/20/05/16103463/7...         Lisa Levin   \n",
       "3  https://www.benzinga.com/news/20/05/16095921/4...         Lisa Levin   \n",
       "4  https://www.benzinga.com/news/20/05/16095304/b...         Vick Meyer   \n",
       "\n",
       "                        date stock  \n",
       "0  2020-06-05 10:30:54-04:00     A  \n",
       "1  2020-06-03 10:45:20-04:00     A  \n",
       "2  2020-05-26 04:30:07-04:00     A  \n",
       "3  2020-05-22 12:45:06-04:00     A  \n",
       "4  2020-05-22 11:38:59-04:00     A  "
      ]
     },
     "execution_count": 1,
     "metadata": {},
     "output_type": "execute_result"
    }
   ],
   "source": [
    "import sys\n",
    "import os\n",
    "\n",
    "\n",
    "sys.path.append(os.path.abspath(\"../scripts\"))\n",
    "from load_csv import load_csv\n",
    "\n",
    "file_path = \"../data/raw_analyst_ratings.csv\"\n",
    "df = load_csv(file_path)\n",
    "\n",
    "df.head()"
   ]
  },
  {
   "cell_type": "code",
   "execution_count": 2,
   "id": "7fd76c6b",
   "metadata": {},
   "outputs": [
    {
     "name": "stdout",
     "output_type": "stream",
     "text": [
      "<class 'pandas.core.frame.DataFrame'>\n",
      "RangeIndex: 1407328 entries, 0 to 1407327\n",
      "Data columns (total 6 columns):\n",
      " #   Column      Non-Null Count    Dtype \n",
      "---  ------      --------------    ----- \n",
      " 0   Unnamed: 0  1407328 non-null  int64 \n",
      " 1   headline    1407328 non-null  object\n",
      " 2   url         1407328 non-null  object\n",
      " 3   publisher   1407328 non-null  object\n",
      " 4   date        1407328 non-null  object\n",
      " 5   stock       1407328 non-null  object\n",
      "dtypes: int64(1), object(5)\n",
      "memory usage: 64.4+ MB\n"
     ]
    }
   ],
   "source": [
    "df.info()"
   ]
  },
  {
   "cell_type": "markdown",
   "id": "feeca634",
   "metadata": {},
   "source": [
    "## Descriptive statistics"
   ]
  },
  {
   "cell_type": "markdown",
   "id": "4a81d996",
   "metadata": {},
   "source": [
    "### Headline Length Distribution"
   ]
  },
  {
   "cell_type": "code",
   "execution_count": 3,
   "id": "3c2badad",
   "metadata": {},
   "outputs": [
    {
     "name": "stderr",
     "output_type": "stream",
     "text": [
      "2025-05-30 15:37:38,456 - INFO - Starting headline length analysis on column 'headline'.\n",
      "2025-05-30 15:37:39,166 - INFO - Headline length analysis complete.\n"
     ]
    },
    {
     "data": {
      "text/plain": [
       "{'count': np.int64(1407328),\n",
       " 'mean': np.float64(73.12051490484095),\n",
       " 'std': np.float64(40.73530993195065),\n",
       " 'min': np.int64(3),\n",
       " 'max': np.int64(512),\n",
       " 'quantiles': {0.25: 47.0, 0.5: 64.0, 0.75: 87.0}}"
      ]
     },
     "execution_count": 3,
     "metadata": {},
     "output_type": "execute_result"
    }
   ],
   "source": [
    "# Use utility function from eda_utils to analyze headline lengths\n",
    "from eda_utils.headline_stats import analyze_headline_lengths\n",
    "\n",
    "stats = analyze_headline_lengths(df=df, column=\"headline\")\n",
    "stats"
   ]
  },
  {
   "cell_type": "code",
   "execution_count": 4,
   "id": "46a0af60",
   "metadata": {},
   "outputs": [
    {
     "name": "stderr",
     "output_type": "stream",
     "text": [
      "2025-05-30 15:37:40,295 - INFO - PlotGenerator initialized.\n",
      "2025-05-30 15:37:47,799 - INFO - Displaying histogram for column 'headline_length'\n"
     ]
    },
    {
     "data": {
      "image/png": "[encoded data removed]",
      "text/plain": [
       "<Figure size 1000x600 with 1 Axes>"
      ]
     },
     "metadata": {},
     "output_type": "display_data"
    }
   ],
   "source": [
    "# Histogram of headline lengths\n",
    "from plot_generator import PlotGenerator\n",
    "\n",
    "plotter = PlotGenerator()\n",
    "plotter.plot_histogram(df=df, column=\"headline_length\", title=\"Headline Length Distribution\", xlabel=\"Length of Headline\", ylabel=\"Frequency\")"
   ]
  },
  {
   "cell_type": "markdown",
   "id": "57617d61",
   "metadata": {},
   "source": [
    "#### Note\n",
    "\n",
    "- The histogram reveals the length of news headlines is right-skewed and most headlines have a length between 25-75 characters, indicating that while a majority of headlines are relatively short, there is a long tail of headlines that are significantly longer. This implies that most news sources tend to use concise headlines, but longer, more descriptive headlines occur less frequently."
   ]
  },
  {
   "cell_type": "code",
   "execution_count": 5,
   "id": "aa0fd4a7",
   "metadata": {},
   "outputs": [
    {
     "name": "stderr",
     "output_type": "stream",
     "text": [
      "2025-05-30 15:37:47,969 - INFO - TextOutlierDetector initialized.\n",
      "2025-05-30 15:37:48,127 - INFO - Detected 36715 outliers in 'headline_length' using Z-score threshold 3.0\n"
     ]
    },
    {
     "data": {
      "text/plain": [
       "Unnamed: 0         36715\n",
       "headline           36715\n",
       "url                36715\n",
       "publisher          36715\n",
       "date               36715\n",
       "stock              36715\n",
       "headline_length    36715\n",
       "z_score            36715\n",
       "dtype: int64"
      ]
     },
     "execution_count": 5,
     "metadata": {},
     "output_type": "execute_result"
    }
   ],
   "source": [
    "# Identify outliers in headline lengths\n",
    "from eda_utils.identify_text_outliers import TextOutlierDetector\n",
    "\n",
    "outlier_detector = TextOutlierDetector()\n",
    "outliers = outlier_detector.detect_length_outliers(df=df, column=\"headline_length\")\n",
    "outliers.count()"
   ]
  },
  {
   "cell_type": "code",
   "execution_count": 6,
   "id": "be3b4444",
   "metadata": {},
   "outputs": [
    {
     "data": {
      "text/html": [
       "<div>\n",
       "<style scoped>\n",
       "    .dataframe tbody tr th:only-of-type {\n",
       "        vertical-align: middle;\n",
       "    }\n",
       "\n",
       "    .dataframe tbody tr th {\n",
       "        vertical-align: top;\n",
       "    }\n",
       "\n",
       "    .dataframe thead th {\n",
       "        text-align: right;\n",
       "    }\n",
       "</style>\n",
       "<table border=\"1\" class=\"dataframe\">\n",
       "  <thead>\n",
       "    <tr style=\"text-align: right;\">\n",
       "      <th></th>\n",
       "      <th>Unnamed: 0</th>\n",
       "      <th>headline</th>\n",
       "      <th>url</th>\n",
       "      <th>publisher</th>\n",
       "      <th>date</th>\n",
       "      <th>stock</th>\n",
       "      <th>headline_length</th>\n",
       "      <th>z_score</th>\n",
       "    </tr>\n",
       "  </thead>\n",
       "  <tbody>\n",
       "    <tr>\n",
       "      <th>21</th>\n",
       "      <td>21</td>\n",
       "      <td>Shares of several healthcare companies are tra...</td>\n",
       "      <td>https://www.benzinga.com/20/05/15935673/shares...</td>\n",
       "      <td>Benzinga Newsdesk</td>\n",
       "      <td>2020-05-01 00:00:00</td>\n",
       "      <td>A</td>\n",
       "      <td>210</td>\n",
       "      <td>3.360218</td>\n",
       "    </tr>\n",
       "    <tr>\n",
       "      <th>26</th>\n",
       "      <td>26</td>\n",
       "      <td>Shares of several companies in the auto dealer...</td>\n",
       "      <td>https://www.benzinga.com/wiim/20/04/15769071/s...</td>\n",
       "      <td>Benzinga Newsdesk</td>\n",
       "      <td>2020-04-08 00:00:00</td>\n",
       "      <td>A</td>\n",
       "      <td>254</td>\n",
       "      <td>4.440363</td>\n",
       "    </tr>\n",
       "    <tr>\n",
       "      <th>27</th>\n",
       "      <td>27</td>\n",
       "      <td>Shares of several healthcare companies are tra...</td>\n",
       "      <td>https://www.benzinga.com/wiim/20/04/15748126/s...</td>\n",
       "      <td>Benzinga Newsdesk</td>\n",
       "      <td>2020-04-06 00:00:00</td>\n",
       "      <td>A</td>\n",
       "      <td>212</td>\n",
       "      <td>3.409316</td>\n",
       "    </tr>\n",
       "    <tr>\n",
       "      <th>33</th>\n",
       "      <td>33</td>\n",
       "      <td>Shares of several healthcare companies are tra...</td>\n",
       "      <td>https://www.benzinga.com/wiim/20/03/15683827/s...</td>\n",
       "      <td>Benzinga Newsdesk</td>\n",
       "      <td>2020-03-27 00:00:00</td>\n",
       "      <td>A</td>\n",
       "      <td>212</td>\n",
       "      <td>3.409316</td>\n",
       "    </tr>\n",
       "    <tr>\n",
       "      <th>39</th>\n",
       "      <td>39</td>\n",
       "      <td>Shares of several healthcare companies are tra...</td>\n",
       "      <td>https://www.benzinga.com/wiim/20/03/15558425/s...</td>\n",
       "      <td>Benzinga Newsdesk</td>\n",
       "      <td>2020-03-16 00:00:00</td>\n",
       "      <td>A</td>\n",
       "      <td>209</td>\n",
       "      <td>3.335670</td>\n",
       "    </tr>\n",
       "    <tr>\n",
       "      <th>40</th>\n",
       "      <td>40</td>\n",
       "      <td>Shares of several basic materials companies ar...</td>\n",
       "      <td>https://www.benzinga.com/wiim/20/03/15546085/s...</td>\n",
       "      <td>Benzinga Newsdesk</td>\n",
       "      <td>2020-03-13 00:00:00</td>\n",
       "      <td>A</td>\n",
       "      <td>251</td>\n",
       "      <td>4.366716</td>\n",
       "    </tr>\n",
       "    <tr>\n",
       "      <th>42</th>\n",
       "      <td>42</td>\n",
       "      <td>Shares of several coronavirus-related companie...</td>\n",
       "      <td>https://www.benzinga.com/wiim/20/03/15528213/s...</td>\n",
       "      <td>luke@benzinga.com</td>\n",
       "      <td>2020-03-11 00:00:00</td>\n",
       "      <td>A</td>\n",
       "      <td>206</td>\n",
       "      <td>3.262023</td>\n",
       "    </tr>\n",
       "    <tr>\n",
       "      <th>43</th>\n",
       "      <td>43</td>\n",
       "      <td>Agilent Technologies Inc Says In January 2020,...</td>\n",
       "      <td>https://www.benzinga.com/news/20/03/15472189/a...</td>\n",
       "      <td>luke@benzinga.com</td>\n",
       "      <td>2020-03-03 00:00:00</td>\n",
       "      <td>A</td>\n",
       "      <td>255</td>\n",
       "      <td>4.464911</td>\n",
       "    </tr>\n",
       "    <tr>\n",
       "      <th>94</th>\n",
       "      <td>94</td>\n",
       "      <td>Shares of several healthcare companies are tra...</td>\n",
       "      <td>https://www.benzinga.com/markets/wiim/19/10/14...</td>\n",
       "      <td>Benzinga Newsdesk</td>\n",
       "      <td>2019-10-11 00:00:00</td>\n",
       "      <td>A</td>\n",
       "      <td>295</td>\n",
       "      <td>5.446861</td>\n",
       "    </tr>\n",
       "    <tr>\n",
       "      <th>96</th>\n",
       "      <td>96</td>\n",
       "      <td>Shares of several healthcare companies are tra...</td>\n",
       "      <td>https://www.benzinga.com/markets/wiim/19/10/14...</td>\n",
       "      <td>Benzinga Newsdesk</td>\n",
       "      <td>2019-10-08 00:00:00</td>\n",
       "      <td>A</td>\n",
       "      <td>251</td>\n",
       "      <td>4.366716</td>\n",
       "    </tr>\n",
       "  </tbody>\n",
       "</table>\n",
       "</div>"
      ],
      "text/plain": [
       "    Unnamed: 0                                           headline  \\\n",
       "21          21  Shares of several healthcare companies are tra...   \n",
       "26          26  Shares of several companies in the auto dealer...   \n",
       "27          27  Shares of several healthcare companies are tra...   \n",
       "33          33  Shares of several healthcare companies are tra...   \n",
       "39          39  Shares of several healthcare companies are tra...   \n",
       "40          40  Shares of several basic materials companies ar...   \n",
       "42          42  Shares of several coronavirus-related companie...   \n",
       "43          43  Agilent Technologies Inc Says In January 2020,...   \n",
       "94          94  Shares of several healthcare companies are tra...   \n",
       "96          96  Shares of several healthcare companies are tra...   \n",
       "\n",
       "                                                  url          publisher  \\\n",
       "21  https://www.benzinga.com/20/05/15935673/shares...  Benzinga Newsdesk   \n",
       "26  https://www.benzinga.com/wiim/20/04/15769071/s...  Benzinga Newsdesk   \n",
       "27  https://www.benzinga.com/wiim/20/04/15748126/s...  Benzinga Newsdesk   \n",
       "33  https://www.benzinga.com/wiim/20/03/15683827/s...  Benzinga Newsdesk   \n",
       "39  https://www.benzinga.com/wiim/20/03/15558425/s...  Benzinga Newsdesk   \n",
       "40  https://www.benzinga.com/wiim/20/03/15546085/s...  Benzinga Newsdesk   \n",
       "42  https://www.benzinga.com/wiim/20/03/15528213/s...  luke@benzinga.com   \n",
       "43  https://www.benzinga.com/news/20/03/15472189/a...  luke@benzinga.com   \n",
       "94  https://www.benzinga.com/markets/wiim/19/10/14...  Benzinga Newsdesk   \n",
       "96  https://www.benzinga.com/markets/wiim/19/10/14...  Benzinga Newsdesk   \n",
       "\n",
       "                   date stock  headline_length   z_score  \n",
       "21  2020-05-01 00:00:00     A              210  3.360218  \n",
       "26  2020-04-08 00:00:00     A              254  4.440363  \n",
       "27  2020-04-06 00:00:00     A              212  3.409316  \n",
       "33  2020-03-27 00:00:00     A              212  3.409316  \n",
       "39  2020-03-16 00:00:00     A              209  3.335670  \n",
       "40  2020-03-13 00:00:00     A              251  4.366716  \n",
       "42  2020-03-11 00:00:00     A              206  3.262023  \n",
       "43  2020-03-03 00:00:00     A              255  4.464911  \n",
       "94  2019-10-11 00:00:00     A              295  5.446861  \n",
       "96  2019-10-08 00:00:00     A              251  4.366716  "
      ]
     },
     "execution_count": 6,
     "metadata": {},
     "output_type": "execute_result"
    }
   ],
   "source": [
    "outliers.head(10)"
   ]
  },
  {
   "cell_type": "markdown",
   "id": "43269e5e",
   "metadata": {},
   "source": [
    "#### Note\n",
    "\n",
    "- All the first 10 outlier columns show the same publisher, 8 of them the same name and 2 of them an email same as the publsiher name which indicates they could be the same. next step should be to group these outliers by publisher and see if they have the same publisher."
   ]
  },
  {
   "cell_type": "code",
   "execution_count": 7,
   "id": "3689f73a",
   "metadata": {},
   "outputs": [
    {
     "data": {
      "text/html": [
       "<div>\n",
       "<style scoped>\n",
       "    .dataframe tbody tr th:only-of-type {\n",
       "        vertical-align: middle;\n",
       "    }\n",
       "\n",
       "    .dataframe tbody tr th {\n",
       "        vertical-align: top;\n",
       "    }\n",
       "\n",
       "    .dataframe thead th {\n",
       "        text-align: right;\n",
       "    }\n",
       "</style>\n",
       "<table border=\"1\" class=\"dataframe\">\n",
       "  <thead>\n",
       "    <tr style=\"text-align: right;\">\n",
       "      <th></th>\n",
       "      <th>total_articles</th>\n",
       "      <th>avg_length</th>\n",
       "    </tr>\n",
       "    <tr>\n",
       "      <th>publisher</th>\n",
       "      <th></th>\n",
       "      <th></th>\n",
       "    </tr>\n",
       "  </thead>\n",
       "  <tbody>\n",
       "    <tr>\n",
       "      <th>Benzinga Newsdesk</th>\n",
       "      <td>23169</td>\n",
       "      <td>233.310587</td>\n",
       "    </tr>\n",
       "    <tr>\n",
       "      <th>Paul Quintaro</th>\n",
       "      <td>3278</td>\n",
       "      <td>217.326724</td>\n",
       "    </tr>\n",
       "    <tr>\n",
       "      <th>Benzinga_Newsdesk</th>\n",
       "      <td>2782</td>\n",
       "      <td>229.037743</td>\n",
       "    </tr>\n",
       "    <tr>\n",
       "      <th>Benzinga Newsdesk</th>\n",
       "      <td>2277</td>\n",
       "      <td>265.164251</td>\n",
       "    </tr>\n",
       "    <tr>\n",
       "      <th>Hal Lindon</th>\n",
       "      <td>1925</td>\n",
       "      <td>224.767273</td>\n",
       "    </tr>\n",
       "    <tr>\n",
       "      <th>luke@benzinga.com</th>\n",
       "      <td>1036</td>\n",
       "      <td>233.445946</td>\n",
       "    </tr>\n",
       "    <tr>\n",
       "      <th>Eddie Staley</th>\n",
       "      <td>710</td>\n",
       "      <td>224.661972</td>\n",
       "    </tr>\n",
       "    <tr>\n",
       "      <th>Charles Gross</th>\n",
       "      <td>583</td>\n",
       "      <td>227.109777</td>\n",
       "    </tr>\n",
       "    <tr>\n",
       "      <th>Brad Hammond</th>\n",
       "      <td>484</td>\n",
       "      <td>227.460744</td>\n",
       "    </tr>\n",
       "    <tr>\n",
       "      <th>Benzinga  Newsdesk</th>\n",
       "      <td>153</td>\n",
       "      <td>229.869281</td>\n",
       "    </tr>\n",
       "  </tbody>\n",
       "</table>\n",
       "</div>"
      ],
      "text/plain": [
       "                    total_articles  avg_length\n",
       "publisher                                     \n",
       "Benzinga Newsdesk            23169  233.310587\n",
       "Paul Quintaro                 3278  217.326724\n",
       "Benzinga_Newsdesk             2782  229.037743\n",
       "Benzinga Newsdesk             2277  265.164251\n",
       "Hal Lindon                    1925  224.767273\n",
       "luke@benzinga.com             1036  233.445946\n",
       "Eddie Staley                   710  224.661972\n",
       "Charles Gross                  583  227.109777\n",
       "Brad Hammond                   484  227.460744\n",
       "Benzinga  Newsdesk             153  229.869281"
      ]
     },
     "execution_count": 7,
     "metadata": {},
     "output_type": "execute_result"
    }
   ],
   "source": [
    "outliers_publisher_stats = outliers.groupby('publisher').agg(\n",
    "    total_articles=('headline', 'count'),\n",
    "    avg_length=('headline_length', 'mean'),\n",
    ")\n",
    "outliers_publisher_stats = outliers_publisher_stats.sort_values(by='total_articles', ascending=False)\n",
    "outliers_publisher_stats.head(10)"
   ]
  },
  {
   "cell_type": "code",
   "execution_count": 8,
   "id": "412187bb",
   "metadata": {},
   "outputs": [
    {
     "data": {
      "text/plain": [
       "total_articles    32\n",
       "avg_length        32\n",
       "dtype: int64"
      ]
     },
     "execution_count": 8,
     "metadata": {},
     "output_type": "execute_result"
    }
   ],
   "source": [
    "outliers_publisher_stats.count()"
   ]
  },
  {
   "cell_type": "markdown",
   "id": "583d02a9",
   "metadata": {},
   "source": [
    "#### Note\n",
    "\n",
    "- The grouped data shows that most outlier headlines come from certain number of publishers which indicates these publishers tend to publish a descriptive/long and/or short/precise headlines."
   ]
  },
  {
   "cell_type": "code",
   "execution_count": 9,
   "id": "c92c7690",
   "metadata": {},
   "outputs": [
    {
     "name": "stderr",
     "output_type": "stream",
     "text": [
      "2025-05-30 15:37:50,317 - INFO - Detected 690564 duplicate rows based on column 'headline'\n"
     ]
    },
    {
     "data": {
      "text/plain": [
       "Unnamed: 0         690564\n",
       "headline           690564\n",
       "url                690564\n",
       "publisher          690564\n",
       "date               690564\n",
       "stock              690564\n",
       "headline_length    690564\n",
       "dtype: int64"
      ]
     },
     "execution_count": 9,
     "metadata": {},
     "output_type": "execute_result"
    }
   ],
   "source": [
    "# detect duplicate headlines\n",
    "duplicate_headlines = outlier_detector.detect_duplicate_texts(df=df, column=\"headline\")\n",
    "duplicate_headlines.count()"
   ]
  },
  {
   "cell_type": "code",
   "execution_count": 10,
   "id": "a1a90b5e",
   "metadata": {},
   "outputs": [
    {
     "data": {
      "text/html": [
       "<div>\n",
       "<style scoped>\n",
       "    .dataframe tbody tr th:only-of-type {\n",
       "        vertical-align: middle;\n",
       "    }\n",
       "\n",
       "    .dataframe tbody tr th {\n",
       "        vertical-align: top;\n",
       "    }\n",
       "\n",
       "    .dataframe thead th {\n",
       "        text-align: right;\n",
       "    }\n",
       "</style>\n",
       "<table border=\"1\" class=\"dataframe\">\n",
       "  <thead>\n",
       "    <tr style=\"text-align: right;\">\n",
       "      <th></th>\n",
       "      <th>Unnamed: 0</th>\n",
       "      <th>headline</th>\n",
       "      <th>url</th>\n",
       "      <th>publisher</th>\n",
       "      <th>date</th>\n",
       "      <th>stock</th>\n",
       "      <th>headline_length</th>\n",
       "    </tr>\n",
       "  </thead>\n",
       "  <tbody>\n",
       "    <tr>\n",
       "      <th>0</th>\n",
       "      <td>0</td>\n",
       "      <td>Stocks That Hit 52-Week Highs On Friday</td>\n",
       "      <td>https://www.benzinga.com/news/20/06/16190091/s...</td>\n",
       "      <td>Benzinga Insights</td>\n",
       "      <td>2020-06-05 10:30:54-04:00</td>\n",
       "      <td>A</td>\n",
       "      <td>39</td>\n",
       "    </tr>\n",
       "    <tr>\n",
       "      <th>1</th>\n",
       "      <td>1</td>\n",
       "      <td>Stocks That Hit 52-Week Highs On Wednesday</td>\n",
       "      <td>https://www.benzinga.com/news/20/06/16170189/s...</td>\n",
       "      <td>Benzinga Insights</td>\n",
       "      <td>2020-06-03 10:45:20-04:00</td>\n",
       "      <td>A</td>\n",
       "      <td>42</td>\n",
       "    </tr>\n",
       "    <tr>\n",
       "      <th>2</th>\n",
       "      <td>2</td>\n",
       "      <td>71 Biggest Movers From Friday</td>\n",
       "      <td>https://www.benzinga.com/news/20/05/16103463/7...</td>\n",
       "      <td>Lisa Levin</td>\n",
       "      <td>2020-05-26 04:30:07-04:00</td>\n",
       "      <td>A</td>\n",
       "      <td>29</td>\n",
       "    </tr>\n",
       "    <tr>\n",
       "      <th>3</th>\n",
       "      <td>3</td>\n",
       "      <td>46 Stocks Moving In Friday's Mid-Day Session</td>\n",
       "      <td>https://www.benzinga.com/news/20/05/16095921/4...</td>\n",
       "      <td>Lisa Levin</td>\n",
       "      <td>2020-05-22 12:45:06-04:00</td>\n",
       "      <td>A</td>\n",
       "      <td>44</td>\n",
       "    </tr>\n",
       "    <tr>\n",
       "      <th>6</th>\n",
       "      <td>6</td>\n",
       "      <td>UBS Maintains Neutral on Agilent Technologies,...</td>\n",
       "      <td>https://www.benzinga.com/news/20/05/16094027/u...</td>\n",
       "      <td>vishwanath@benzinga.com</td>\n",
       "      <td>2020-05-22 09:36:20-04:00</td>\n",
       "      <td>A</td>\n",
       "      <td>73</td>\n",
       "    </tr>\n",
       "    <tr>\n",
       "      <th>7</th>\n",
       "      <td>7</td>\n",
       "      <td>Agilent Technologies shares are trading higher...</td>\n",
       "      <td>https://www.benzinga.com/wiim/20/05/16093805/a...</td>\n",
       "      <td>Benzinga Newsdesk</td>\n",
       "      <td>2020-05-22 09:07:04-04:00</td>\n",
       "      <td>A</td>\n",
       "      <td>120</td>\n",
       "    </tr>\n",
       "    <tr>\n",
       "      <th>9</th>\n",
       "      <td>9</td>\n",
       "      <td>10 Biggest Price Target Changes For Friday</td>\n",
       "      <td>https://www.benzinga.com/analyst-ratings/price...</td>\n",
       "      <td>Lisa Levin</td>\n",
       "      <td>2020-05-22 08:06:17-04:00</td>\n",
       "      <td>A</td>\n",
       "      <td>42</td>\n",
       "    </tr>\n",
       "    <tr>\n",
       "      <th>10</th>\n",
       "      <td>10</td>\n",
       "      <td>30 Stocks Moving in Friday's Pre-Market Session</td>\n",
       "      <td>https://www.benzinga.com/news/20/05/16092879/3...</td>\n",
       "      <td>Lisa Levin</td>\n",
       "      <td>2020-05-22 00:00:00</td>\n",
       "      <td>A</td>\n",
       "      <td>47</td>\n",
       "    </tr>\n",
       "    <tr>\n",
       "      <th>12</th>\n",
       "      <td>12</td>\n",
       "      <td>8 Stocks Moving In Thursday's After-Hours Session</td>\n",
       "      <td>https://www.benzinga.com/news/20/05/16089803/8...</td>\n",
       "      <td>Tyree Gorges</td>\n",
       "      <td>2020-05-21 00:00:00</td>\n",
       "      <td>A</td>\n",
       "      <td>49</td>\n",
       "    </tr>\n",
       "    <tr>\n",
       "      <th>13</th>\n",
       "      <td>13</td>\n",
       "      <td>Agilent Technologies shares are trading higher...</td>\n",
       "      <td>https://www.benzinga.com/wiim/20/05/16089218/a...</td>\n",
       "      <td>Benzinga Newsdesk</td>\n",
       "      <td>2020-05-21 00:00:00</td>\n",
       "      <td>A</td>\n",
       "      <td>120</td>\n",
       "    </tr>\n",
       "  </tbody>\n",
       "</table>\n",
       "</div>"
      ],
      "text/plain": [
       "    Unnamed: 0                                           headline  \\\n",
       "0            0            Stocks That Hit 52-Week Highs On Friday   \n",
       "1            1         Stocks That Hit 52-Week Highs On Wednesday   \n",
       "2            2                      71 Biggest Movers From Friday   \n",
       "3            3       46 Stocks Moving In Friday's Mid-Day Session   \n",
       "6            6  UBS Maintains Neutral on Agilent Technologies,...   \n",
       "7            7  Agilent Technologies shares are trading higher...   \n",
       "9            9         10 Biggest Price Target Changes For Friday   \n",
       "10          10    30 Stocks Moving in Friday's Pre-Market Session   \n",
       "12          12  8 Stocks Moving In Thursday's After-Hours Session   \n",
       "13          13  Agilent Technologies shares are trading higher...   \n",
       "\n",
       "                                                  url  \\\n",
       "0   https://www.benzinga.com/news/20/06/16190091/s...   \n",
       "1   https://www.benzinga.com/news/20/06/16170189/s...   \n",
       "2   https://www.benzinga.com/news/20/05/16103463/7...   \n",
       "3   https://www.benzinga.com/news/20/05/16095921/4...   \n",
       "6   https://www.benzinga.com/news/20/05/16094027/u...   \n",
       "7   https://www.benzinga.com/wiim/20/05/16093805/a...   \n",
       "9   https://www.benzinga.com/analyst-ratings/price...   \n",
       "10  https://www.benzinga.com/news/20/05/16092879/3...   \n",
       "12  https://www.benzinga.com/news/20/05/16089803/8...   \n",
       "13  https://www.benzinga.com/wiim/20/05/16089218/a...   \n",
       "\n",
       "                  publisher                       date stock  headline_length  \n",
       "0         Benzinga Insights  2020-06-05 10:30:54-04:00     A               39  \n",
       "1         Benzinga Insights  2020-06-03 10:45:20-04:00     A               42  \n",
       "2                Lisa Levin  2020-05-26 04:30:07-04:00     A               29  \n",
       "3                Lisa Levin  2020-05-22 12:45:06-04:00     A               44  \n",
       "6   vishwanath@benzinga.com  2020-05-22 09:36:20-04:00     A               73  \n",
       "7         Benzinga Newsdesk  2020-05-22 09:07:04-04:00     A              120  \n",
       "9                Lisa Levin  2020-05-22 08:06:17-04:00     A               42  \n",
       "10               Lisa Levin        2020-05-22 00:00:00     A               47  \n",
       "12             Tyree Gorges        2020-05-21 00:00:00     A               49  \n",
       "13        Benzinga Newsdesk        2020-05-21 00:00:00     A              120  "
      ]
     },
     "execution_count": 10,
     "metadata": {},
     "output_type": "execute_result"
    }
   ],
   "source": [
    "duplicate_headlines.head(10)"
   ]
  },
  {
   "cell_type": "code",
   "execution_count": 11,
   "id": "a43e79bb",
   "metadata": {},
   "outputs": [
    {
     "name": "stderr",
     "output_type": "stream",
     "text": [
      "2025-05-30 15:37:51,693 - INFO - DataFlagger initialized.\n",
      "2025-05-30 15:37:51,713 - INFO - Flagged 36715 rows in column 'is_outlier'.\n",
      "2025-05-30 15:37:51,805 - INFO - Flagged 690564 rows in column 'is_duplicate'.\n"
     ]
    },
    {
     "data": {
      "text/html": [
       "<div>\n",
       "<style scoped>\n",
       "    .dataframe tbody tr th:only-of-type {\n",
       "        vertical-align: middle;\n",
       "    }\n",
       "\n",
       "    .dataframe tbody tr th {\n",
       "        vertical-align: top;\n",
       "    }\n",
       "\n",
       "    .dataframe thead th {\n",
       "        text-align: right;\n",
       "    }\n",
       "</style>\n",
       "<table border=\"1\" class=\"dataframe\">\n",
       "  <thead>\n",
       "    <tr style=\"text-align: right;\">\n",
       "      <th></th>\n",
       "      <th>Unnamed: 0</th>\n",
       "      <th>headline</th>\n",
       "      <th>url</th>\n",
       "      <th>publisher</th>\n",
       "      <th>date</th>\n",
       "      <th>stock</th>\n",
       "      <th>headline_length</th>\n",
       "      <th>is_outlier</th>\n",
       "      <th>is_duplicate</th>\n",
       "    </tr>\n",
       "  </thead>\n",
       "  <tbody>\n",
       "    <tr>\n",
       "      <th>0</th>\n",
       "      <td>0</td>\n",
       "      <td>Stocks That Hit 52-Week Highs On Friday</td>\n",
       "      <td>https://www.benzinga.com/news/20/06/16190091/s...</td>\n",
       "      <td>Benzinga Insights</td>\n",
       "      <td>2020-06-05 10:30:54-04:00</td>\n",
       "      <td>A</td>\n",
       "      <td>39</td>\n",
       "      <td>False</td>\n",
       "      <td>True</td>\n",
       "    </tr>\n",
       "    <tr>\n",
       "      <th>1</th>\n",
       "      <td>1</td>\n",
       "      <td>Stocks That Hit 52-Week Highs On Wednesday</td>\n",
       "      <td>https://www.benzinga.com/news/20/06/16170189/s...</td>\n",
       "      <td>Benzinga Insights</td>\n",
       "      <td>2020-06-03 10:45:20-04:00</td>\n",
       "      <td>A</td>\n",
       "      <td>42</td>\n",
       "      <td>False</td>\n",
       "      <td>True</td>\n",
       "    </tr>\n",
       "    <tr>\n",
       "      <th>2</th>\n",
       "      <td>2</td>\n",
       "      <td>71 Biggest Movers From Friday</td>\n",
       "      <td>https://www.benzinga.com/news/20/05/16103463/7...</td>\n",
       "      <td>Lisa Levin</td>\n",
       "      <td>2020-05-26 04:30:07-04:00</td>\n",
       "      <td>A</td>\n",
       "      <td>29</td>\n",
       "      <td>False</td>\n",
       "      <td>True</td>\n",
       "    </tr>\n",
       "    <tr>\n",
       "      <th>3</th>\n",
       "      <td>3</td>\n",
       "      <td>46 Stocks Moving In Friday's Mid-Day Session</td>\n",
       "      <td>https://www.benzinga.com/news/20/05/16095921/4...</td>\n",
       "      <td>Lisa Levin</td>\n",
       "      <td>2020-05-22 12:45:06-04:00</td>\n",
       "      <td>A</td>\n",
       "      <td>44</td>\n",
       "      <td>False</td>\n",
       "      <td>True</td>\n",
       "    </tr>\n",
       "    <tr>\n",
       "      <th>4</th>\n",
       "      <td>4</td>\n",
       "      <td>B of A Securities Maintains Neutral on Agilent...</td>\n",
       "      <td>https://www.benzinga.com/news/20/05/16095304/b...</td>\n",
       "      <td>Vick Meyer</td>\n",
       "      <td>2020-05-22 11:38:59-04:00</td>\n",
       "      <td>A</td>\n",
       "      <td>87</td>\n",
       "      <td>False</td>\n",
       "      <td>False</td>\n",
       "    </tr>\n",
       "  </tbody>\n",
       "</table>\n",
       "</div>"
      ],
      "text/plain": [
       "   Unnamed: 0                                           headline  \\\n",
       "0           0            Stocks That Hit 52-Week Highs On Friday   \n",
       "1           1         Stocks That Hit 52-Week Highs On Wednesday   \n",
       "2           2                      71 Biggest Movers From Friday   \n",
       "3           3       46 Stocks Moving In Friday's Mid-Day Session   \n",
       "4           4  B of A Securities Maintains Neutral on Agilent...   \n",
       "\n",
       "                                                 url          publisher  \\\n",
       "0  https://www.benzinga.com/news/20/06/16190091/s...  Benzinga Insights   \n",
       "1  https://www.benzinga.com/news/20/06/16170189/s...  Benzinga Insights   \n",
       "2  https://www.benzinga.com/news/20/05/16103463/7...         Lisa Levin   \n",
       "3  https://www.benzinga.com/news/20/05/16095921/4...         Lisa Levin   \n",
       "4  https://www.benzinga.com/news/20/05/16095304/b...         Vick Meyer   \n",
       "\n",
       "                        date stock  headline_length  is_outlier  is_duplicate  \n",
       "0  2020-06-05 10:30:54-04:00     A               39       False          True  \n",
       "1  2020-06-03 10:45:20-04:00     A               42       False          True  \n",
       "2  2020-05-26 04:30:07-04:00     A               29       False          True  \n",
       "3  2020-05-22 12:45:06-04:00     A               44       False          True  \n",
       "4  2020-05-22 11:38:59-04:00     A               87       False         False  "
      ]
     },
     "execution_count": 11,
     "metadata": {},
     "output_type": "execute_result"
    }
   ],
   "source": [
    "# Flag outliers and duplicates in the original DataFrame\n",
    "from eda_utils.data_flagger import DataFlagger\n",
    "\n",
    "flagger = DataFlagger()\n",
    "flagged_df = flagger.flag_rows(df, outliers.index, 'is_outlier')\n",
    "flagged_df = flagger.flag_rows(df, duplicate_headlines.index, 'is_duplicate')\n",
    "flagged_df.head()"
   ]
  },
  {
   "cell_type": "markdown",
   "id": "ccd63ffd",
   "metadata": {},
   "source": [
    "### Most Active Publishers"
   ]
  },
  {
   "cell_type": "code",
   "execution_count": 12,
   "id": "169fff2a",
   "metadata": {},
   "outputs": [
    {
     "name": "stderr",
     "output_type": "stream",
     "text": [
      "2025-05-30 15:37:51,823 - INFO - PublisherStatsGenerator initialized.\n",
      "2025-05-30 15:37:51,927 - INFO - Counted 1034 unique publishers.\n"
     ]
    },
    {
     "data": {
      "text/html": [
       "<div>\n",
       "<style scoped>\n",
       "    .dataframe tbody tr th:only-of-type {\n",
       "        vertical-align: middle;\n",
       "    }\n",
       "\n",
       "    .dataframe tbody tr th {\n",
       "        vertical-align: top;\n",
       "    }\n",
       "\n",
       "    .dataframe thead th {\n",
       "        text-align: right;\n",
       "    }\n",
       "</style>\n",
       "<table border=\"1\" class=\"dataframe\">\n",
       "  <thead>\n",
       "    <tr style=\"text-align: right;\">\n",
       "      <th></th>\n",
       "      <th>publisher</th>\n",
       "      <th>article_count</th>\n",
       "    </tr>\n",
       "  </thead>\n",
       "  <tbody>\n",
       "    <tr>\n",
       "      <th>0</th>\n",
       "      <td>Paul Quintaro</td>\n",
       "      <td>228373</td>\n",
       "    </tr>\n",
       "    <tr>\n",
       "      <th>1</th>\n",
       "      <td>Lisa Levin</td>\n",
       "      <td>186979</td>\n",
       "    </tr>\n",
       "    <tr>\n",
       "      <th>2</th>\n",
       "      <td>Benzinga Newsdesk</td>\n",
       "      <td>150484</td>\n",
       "    </tr>\n",
       "    <tr>\n",
       "      <th>3</th>\n",
       "      <td>Charles Gross</td>\n",
       "      <td>96732</td>\n",
       "    </tr>\n",
       "    <tr>\n",
       "      <th>4</th>\n",
       "      <td>Monica Gerson</td>\n",
       "      <td>82380</td>\n",
       "    </tr>\n",
       "  </tbody>\n",
       "</table>\n",
       "</div>"
      ],
      "text/plain": [
       "           publisher  article_count\n",
       "0      Paul Quintaro         228373\n",
       "1         Lisa Levin         186979\n",
       "2  Benzinga Newsdesk         150484\n",
       "3      Charles Gross          96732\n",
       "4      Monica Gerson          82380"
      ]
     },
     "execution_count": 12,
     "metadata": {},
     "output_type": "execute_result"
    }
   ],
   "source": [
    "# Use PublisherAnalyzer utility class to see most active publishers\n",
    "from eda_utils.publisher_analysis import PublisherAnalyzer\n",
    "\n",
    "publisher_analyzer = PublisherAnalyzer()\n",
    "article_by_publisher_count = publisher_analyzer.count_articles_by_publisher(df=flagged_df, publisher_col=\"publisher\")\n",
    "article_by_publisher_count.head()"
   ]
  },
  {
   "cell_type": "code",
   "execution_count": 13,
   "id": "002d2db1",
   "metadata": {},
   "outputs": [
    {
     "data": {
      "image/png": "[encoded data removed]",
      "text/plain": [
       "<Figure size 1200x600 with 1 Axes>"
      ]
     },
     "metadata": {},
     "output_type": "display_data"
    },
    {
     "name": "stderr",
     "output_type": "stream",
     "text": [
      "2025-05-30 15:37:52,289 - INFO - Plotted ranked bar chart for top 20 items by article_count\n"
     ]
    }
   ],
   "source": [
    "# use plot generator to visualize the most active publishers using a ranked bar chart\n",
    "plotter.plot_ranked_bar_chart(\n",
    "    df=article_by_publisher_count,\n",
    "    x_col=\"publisher\",\n",
    "    y_col=\"article_count\",\n",
    "    title=\"Top 20 Publishers by Article Count\",\n",
    "    xlabel=\"Publisher\",\n",
    "    ylabel=\"Number of Articles\",\n",
    "    top_n=20\n",
    ")"
   ]
  },
  {
   "cell_type": "markdown",
   "id": "baec827a",
   "metadata": {},
   "source": [
    "### Trends in News Publication"
   ]
  },
  {
   "cell_type": "code",
   "execution_count": 14,
   "id": "bc635808",
   "metadata": {},
   "outputs": [
    {
     "name": "stderr",
     "output_type": "stream",
     "text": [
      "2025-05-30 15:37:52,891 - INFO - TimeSeriesTrendsAnalyzer initialized.\n",
      "2025-05-30 15:37:53,607 - INFO - Aggregated publication counts using frequency 'D' with 3334 rows.\n"
     ]
    },
    {
     "data": {
      "text/html": [
       "<div>\n",
       "<style scoped>\n",
       "    .dataframe tbody tr th:only-of-type {\n",
       "        vertical-align: middle;\n",
       "    }\n",
       "\n",
       "    .dataframe tbody tr th {\n",
       "        vertical-align: top;\n",
       "    }\n",
       "\n",
       "    .dataframe thead th {\n",
       "        text-align: right;\n",
       "    }\n",
       "</style>\n",
       "<table border=\"1\" class=\"dataframe\">\n",
       "  <thead>\n",
       "    <tr style=\"text-align: right;\">\n",
       "      <th></th>\n",
       "      <th>date</th>\n",
       "      <th>article_count</th>\n",
       "    </tr>\n",
       "  </thead>\n",
       "  <tbody>\n",
       "    <tr>\n",
       "      <th>0</th>\n",
       "      <td>2011-04-27 00:00:00-04:00</td>\n",
       "      <td>1</td>\n",
       "    </tr>\n",
       "    <tr>\n",
       "      <th>1</th>\n",
       "      <td>2011-04-28 00:00:00-04:00</td>\n",
       "      <td>2</td>\n",
       "    </tr>\n",
       "    <tr>\n",
       "      <th>2</th>\n",
       "      <td>2011-04-29 00:00:00-04:00</td>\n",
       "      <td>2</td>\n",
       "    </tr>\n",
       "    <tr>\n",
       "      <th>3</th>\n",
       "      <td>2011-04-30 00:00:00-04:00</td>\n",
       "      <td>1</td>\n",
       "    </tr>\n",
       "    <tr>\n",
       "      <th>4</th>\n",
       "      <td>2011-05-01 00:00:00-04:00</td>\n",
       "      <td>1</td>\n",
       "    </tr>\n",
       "  </tbody>\n",
       "</table>\n",
       "</div>"
      ],
      "text/plain": [
       "                       date  article_count\n",
       "0 2011-04-27 00:00:00-04:00              1\n",
       "1 2011-04-28 00:00:00-04:00              2\n",
       "2 2011-04-29 00:00:00-04:00              2\n",
       "3 2011-04-30 00:00:00-04:00              1\n",
       "4 2011-05-01 00:00:00-04:00              1"
      ]
     },
     "execution_count": 14,
     "metadata": {},
     "output_type": "execute_result"
    }
   ],
   "source": [
    "# Use TimeSeriesTrendsAnalyzer to analyze trends over time\n",
    "from eda_utils.time_series_trends import TimeSeriesTrendsAnalyzer\n",
    "time_series_analyzer = TimeSeriesTrendsAnalyzer()\n",
    "daily_trends_df = time_series_analyzer.get_publication_counts_per_day(df=flagged_df, date_column=\"date\")\n",
    "daily_trends_df.head()"
   ]
  },
  {
   "cell_type": "code",
   "execution_count": 15,
   "id": "13a0831f",
   "metadata": {},
   "outputs": [
    {
     "data": {
      "image/png": "[encoded data removed]",
      "text/plain": [
       "<Figure size 1200x600 with 1 Axes>"
      ]
     },
     "metadata": {},
     "output_type": "display_data"
    },
    {
     "name": "stderr",
     "output_type": "stream",
     "text": [
      "2025-05-30 15:37:53,962 - INFO - Time series plot generated for 'article_count' over 'date'\n"
     ]
    }
   ],
   "source": [
    "# Use PlotGenerator to visualize trends over time\n",
    "plotter.plot_time_series(\n",
    "    df=daily_trends_df,\n",
    "    date_column=\"date\",\n",
    "    value_column=\"article_count\",\n",
    "    title=\"Publication Trends Over Time\",\n",
    ")"
   ]
  },
  {
   "cell_type": "code",
   "execution_count": 18,
   "id": "3803174f",
   "metadata": {},
   "outputs": [
    {
     "name": "stderr",
     "output_type": "stream",
     "text": [
      "2025-05-30 16:03:48,375 - INFO - Generated hourly publication frequency with 24 entries.\n"
     ]
    },
    {
     "data": {
      "text/html": [
       "<div>\n",
       "<style scoped>\n",
       "    .dataframe tbody tr th:only-of-type {\n",
       "        vertical-align: middle;\n",
       "    }\n",
       "\n",
       "    .dataframe tbody tr th {\n",
       "        vertical-align: top;\n",
       "    }\n",
       "\n",
       "    .dataframe thead th {\n",
       "        text-align: right;\n",
       "    }\n",
       "</style>\n",
       "<table border=\"1\" class=\"dataframe\">\n",
       "  <thead>\n",
       "    <tr style=\"text-align: right;\">\n",
       "      <th></th>\n",
       "      <th>hour</th>\n",
       "      <th>count</th>\n",
       "    </tr>\n",
       "  </thead>\n",
       "  <tbody>\n",
       "    <tr>\n",
       "      <th>0</th>\n",
       "      <td>0.0</td>\n",
       "      <td>67</td>\n",
       "    </tr>\n",
       "    <tr>\n",
       "      <th>1</th>\n",
       "      <td>1.0</td>\n",
       "      <td>14</td>\n",
       "    </tr>\n",
       "    <tr>\n",
       "      <th>2</th>\n",
       "      <td>2.0</td>\n",
       "      <td>57</td>\n",
       "    </tr>\n",
       "    <tr>\n",
       "      <th>3</th>\n",
       "      <td>3.0</td>\n",
       "      <td>93</td>\n",
       "    </tr>\n",
       "    <tr>\n",
       "      <th>4</th>\n",
       "      <td>4.0</td>\n",
       "      <td>1469</td>\n",
       "    </tr>\n",
       "  </tbody>\n",
       "</table>\n",
       "</div>"
      ],
      "text/plain": [
       "   hour  count\n",
       "0   0.0     67\n",
       "1   1.0     14\n",
       "2   2.0     57\n",
       "3   3.0     93\n",
       "4   4.0   1469"
      ]
     },
     "execution_count": 18,
     "metadata": {},
     "output_type": "execute_result"
    }
   ],
   "source": [
    "# Analyze hourly trends in publication counts\n",
    "hourly_trends_df = time_series_analyzer.get_publication_counts_per_hour(df=flagged_df, date_col=\"date\")\n",
    "hourly_trends_df.head()"
   ]
  },
  {
   "cell_type": "code",
   "execution_count": 19,
   "id": "e7384f86",
   "metadata": {},
   "outputs": [
    {
     "data": {
      "image/png": "[encoded data removed]",
      "text/plain": [
       "<Figure size 1200x600 with 1 Axes>"
      ]
     },
     "metadata": {},
     "output_type": "display_data"
    },
    {
     "name": "stderr",
     "output_type": "stream",
     "text": [
      "2025-05-30 16:04:32,599 - INFO - Time series plot generated for 'count' over 'hour'\n"
     ]
    }
   ],
   "source": [
    "# Use plot generator to visualize hourly trends\n",
    "plotter.plot_time_series(\n",
    "    df=hourly_trends_df,\n",
    "    date_column=\"hour\",\n",
    "    value_column=\"count\",\n",
    "    title=\"Publication Trends by Hour of Day\",\n",
    ")"
   ]
  }
 ],
 "metadata": {
  "kernelspec": {
   "display_name": ".venv",
   "language": "python",
   "name": "python3"
  },
  "language_info": {
   "codemirror_mode": {
    "name": "ipython",
    "version": 3
   },
   "file_extension": ".py",
   "mimetype": "text/x-python",
   "name": "python",
   "nbconvert_exporter": "python",
   "pygments_lexer": "ipython3",
   "version": "3.12.3"
  }
 },
 "nbformat": 4,
 "nbformat_minor": 5
}
